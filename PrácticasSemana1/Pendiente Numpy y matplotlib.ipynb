{
 "cells": [
  {
   "cell_type": "code",
   "execution_count": 38,
   "metadata": {},
   "outputs": [
    {
     "name": "stdout",
     "output_type": "stream",
     "text": [
      "[[ 1.  2.]\n",
      " [-3.  4.]]\n",
      "[[ 1.  2.]\n",
      " [-3.  4.]]\n"
     ]
    }
   ],
   "source": [
    "#################################### MÓDULO NUMPY ####################################\n",
    "\n",
    "#Importamos de numpy, sólo array\n",
    "from numpy import array\n",
    "\n",
    "#Creamos un array de 2x2 indicando implícitamente el tipo\n",
    "arr1 = array([[1.0, 2.0],[-3.0, 4.0]])\n",
    "print(arr1)\n",
    "#Creamos un array de 2x2 indicando explícitamente el tipo\n",
    "arr2 = array([[1, 2],[-3, 4]],float)\n",
    "print(arr2)"
   ]
  },
  {
   "cell_type": "code",
   "execution_count": 39,
   "metadata": {},
   "outputs": [
    {
     "name": "stdout",
     "output_type": "stream",
     "text": [
      "[1 2 3 4 5 6 7 8 9]\n",
      "[1. 2. 3. 4. 5. 6. 7. 8. 9.]\n",
      "[0. 0. 0. 0. 0.]\n",
      "[0 0 0 0 0]\n",
      "[[1. 1. 1.]\n",
      " [1. 1. 1.]\n",
      " [1. 1. 1.]]\n"
     ]
    }
   ],
   "source": [
    "#Importamos de numpy, todo\n",
    "from numpy import *\n",
    "\n",
    "#Creamos un arreglo de 1 a 10 (sin incluir al 10, con intervalos de 1)\n",
    "print(arange(1,10,1))\n",
    "\n",
    "#Creamos un arreglo similar al anterior pero de punto flotante\n",
    "print(arange(1.0,10.0,1.0))\n",
    "\n",
    "#Creamos un arreglo de tamaño 5, cuyos elementos serán ceros (por default serán, números flotantes)\n",
    "print(zeros(5))\n",
    "\n",
    "#Creamos un arreglo similar al anterior, pero indicando explícitamente que los elementos serán enteros\n",
    "print(zeros((5),int))\n",
    "\n",
    "#Creamos un arreglo de 3x3, cuyos elementos serán unos\n",
    "print(ones((3,3)))"
   ]
  },
  {
   "cell_type": "code",
   "execution_count": 41,
   "metadata": {},
   "outputs": [
    {
     "name": "stdout",
     "output_type": "stream",
     "text": [
      "[[0 0 0]\n",
      " [0 0 0]\n",
      " [0 0 0]]\n",
      "[[ 2  3  2]\n",
      " [ 0  1  0]\n",
      " [ 8 -3  0]]\n"
     ]
    }
   ],
   "source": [
    "#Importamos\n",
    "from numpy import *\n",
    "\n",
    "#Creamos una matriz de 3x3 sólo con ceros\n",
    "arr0 = zeros((3,3),int)\n",
    "print(arr0)\n",
    "\n",
    "#Cambiamos la primer fila de la matriz (en python, los índices comienzan en 0)\n",
    "arr0[0] = [2,3,2]\n",
    "\n",
    "#Cambiamos el elemento central (2x2) por un 1\n",
    "arr0[1,1] = 1\n",
    "\n",
    "#Para la última fila, utilizamos el operador \":\" para hacer un \"slice\" del arreglo y cambiar los elementos indicados\n",
    "arr0[2,0:2] = [8,-3]\n",
    "\n",
    "#Mostramos el resultado\n",
    "print(arr0)"
   ]
  },
  {
   "cell_type": "code",
   "execution_count": 42,
   "metadata": {},
   "outputs": [
    {
     "name": "stdout",
     "output_type": "stream",
     "text": [
      "[0. 1. 2. 4.]\n",
      "[-2.  0.  2.  6.]\n"
     ]
    }
   ],
   "source": [
    "#Importamos\n",
    "from numpy import array\n",
    "\n",
    "#Declaramos un array\n",
    "arr = array([0.0, 2.0, 4.0, 8.0])\n",
    "\n",
    "#En este tipo de arrays, podemos aplicar una operación aritmética a todos los elementos del mismo\n",
    "print(arr/2.0)\n",
    "print(arr - 2.0)\n"
   ]
  },
  {
   "cell_type": "code",
   "execution_count": 45,
   "metadata": {},
   "outputs": [
    {
     "name": "stdout",
     "output_type": "stream",
     "text": [
      "[1.         1.41421356 1.73205081 2.        ]\n",
      "[ 0.84147098  0.90929743  0.14112001 -0.7568025 ]\n"
     ]
    }
   ],
   "source": [
    "#Importamos\n",
    "from numpy import array,sqrt,sin\n",
    "\n",
    "#Declaramos de nuevo un array\n",
    "arr = array([1.0, 2.0, 3.0, 4.0])\n",
    "\n",
    "#No sólo podemos aplicar operaciones aritméticas, sino funciones matemáticas\n",
    "print(sqrt(arr))\n",
    "print(sin(arr))\n"
   ]
  },
  {
   "cell_type": "code",
   "execution_count": 46,
   "metadata": {},
   "outputs": [
    {
     "name": "stdout",
     "output_type": "stream",
     "text": [
      "1.4142135623730951\n"
     ]
    },
    {
     "ename": "TypeError",
     "evalue": "only size-1 arrays can be converted to Python scalars",
     "output_type": "error",
     "traceback": [
      "\u001b[0;31m---------------------------------------------------------------------------\u001b[0m",
      "\u001b[0;31mTypeError\u001b[0m                                 Traceback (most recent call last)",
      "\u001b[0;32m<ipython-input-46-b0d936ec9970>\u001b[0m in \u001b[0;36m<module>\u001b[0;34m()\u001b[0m\n\u001b[1;32m      8\u001b[0m \u001b[0;31m#Las funciones matemáticas del módulo math, sólo se pueden usar para los elementos individuales de este tipo de arreglos\u001b[0m\u001b[0;34m\u001b[0m\u001b[0;34m\u001b[0m\u001b[0m\n\u001b[1;32m      9\u001b[0m \u001b[0mprint\u001b[0m\u001b[0;34m(\u001b[0m\u001b[0msqrt\u001b[0m\u001b[0;34m(\u001b[0m\u001b[0marr\u001b[0m\u001b[0;34m[\u001b[0m\u001b[0;36m1\u001b[0m\u001b[0;34m]\u001b[0m\u001b[0;34m)\u001b[0m\u001b[0;34m)\u001b[0m\u001b[0;34m\u001b[0m\u001b[0m\n\u001b[0;32m---> 10\u001b[0;31m \u001b[0mprint\u001b[0m\u001b[0;34m(\u001b[0m\u001b[0msqrt\u001b[0m\u001b[0;34m(\u001b[0m\u001b[0marr\u001b[0m\u001b[0;34m)\u001b[0m\u001b[0;34m)\u001b[0m\u001b[0;34m\u001b[0m\u001b[0m\n\u001b[0m",
      "\u001b[0;31mTypeError\u001b[0m: only size-1 arrays can be converted to Python scalars"
     ]
    }
   ],
   "source": [
    "#Importamos\n",
    "from numpy import array\n",
    "from math import sqrt\n",
    "\n",
    "#Declaramos un array\n",
    "arr = array([1.0, 2.0, 3.0, 4.0])\n",
    "\n",
    "#Las funciones matemáticas del módulo math, sólo se pueden usar para los elementos individuales de este tipo de arreglos\n",
    "print(sqrt(arr[1]))\n",
    "print(sqrt(arr))"
   ]
  },
  {
   "cell_type": "code",
   "execution_count": 49,
   "metadata": {},
   "outputs": [
    {
     "name": "stdout",
     "output_type": "stream",
     "text": [
      "[[1. 2. 3.]\n",
      " [4. 5. 6.]\n",
      " [7. 8. 9.]]\n",
      "[1. 5. 9.]\n",
      "[2. 6.]\n",
      "15.0\n",
      "[10. 20. 30.]\n",
      "2\n",
      "[0 0 0]\n",
      "[[1. 0. 0.]\n",
      " [0. 1. 0.]\n",
      " [0. 0. 1.]]\n"
     ]
    }
   ],
   "source": [
    "#Import\n",
    "from numpy import *\n",
    "\n",
    "#Declaramos arrays para mostrar qué hacen algunas de las funciones sobre este tipo de arreglos\n",
    "arrA = array([[1,2,3],[4,5,6],[7,8,9]],float)\n",
    "arrb = array([10,20,30],float)\n",
    "\n",
    "#Visualizamos el arreglo A\n",
    "print(arrA)\n",
    "\n",
    "#Diagonal principal\n",
    "print(diagonal(arrA))\n",
    "\n",
    "#Subdiagonal\n",
    "print(diagonal(arrA,1))\n",
    "\n",
    "#Suma de la diagonal principal\n",
    "print(trace(arrA))\n",
    "\n",
    "#Visualizamos el arreglo b\n",
    "print(arrb)\n",
    "\n",
    "#Índice con el mayor elemento\n",
    "print(argmax(arrb))\n",
    "\n",
    "#Índices del elemento menor por columnas\n",
    "print(argmin(arrA,axis=0))  \n",
    "\n",
    "#Matriz identidad\n",
    "print(identity(3))       "
   ]
  },
  {
   "cell_type": "code",
   "execution_count": 51,
   "metadata": {},
   "outputs": [
    {
     "name": "stdout",
     "output_type": "stream",
     "text": [
      "dot(arrx ,arry) =\n",
      " 17\n",
      "dot(arrA ,arrx) =\n",
      " [13 27]\n",
      "dot(arrA ,arrB) =\n",
      " [[5 5]\n",
      " [7 7]]\n",
      "inner(arrx ,arry) =\n",
      " 17\n",
      "inner(arrA ,arrx) =\n",
      " [13 27]\n",
      "inner(arrA ,arrB) =\n",
      " [[ 3  6]\n",
      " [ 5 10]]\n",
      "outer(arrx ,arry) =\n",
      " [[14  7]\n",
      " [ 6  3]]\n",
      "outer(arrA ,arrx) =\n",
      " [[ 7  3]\n",
      " [14  6]\n",
      " [21  9]\n",
      " [14  6]]\n",
      "outer(arrA ,arrB) =\n",
      " [[1 1 2 2]\n",
      " [2 2 4 4]\n",
      " [3 3 6 6]\n",
      " [2 2 4 4]]\n"
     ]
    }
   ],
   "source": [
    "#Importamos\n",
    "from numpy import *\n",
    "\n",
    "#Declaramos arreglos\n",
    "arrx = array([7,3])\n",
    "arry = array([2,1])\n",
    "arrA = array([[1,2],[3,2]])\n",
    "arrB = array([[1,1],[2,2]])\n",
    "\n",
    "# Usamos la función producto punto (Dot product())\n",
    "print(\"dot(arrx ,arry) =\\n\",dot(arrx ,arry))\n",
    "print(\"dot(arrA ,arrx) =\\n\",dot(arrA ,arrx))\n",
    "print(\"dot(arrA ,arrB) =\\n\",dot(arrA ,arrB))\n",
    "\n",
    "# Inner product\n",
    "print(\"inner(arrx ,arry) =\\n\",inner(arrx ,arry))  # {x}.{y}\n",
    "print(\"inner(arrA ,arrx) =\\n\",inner(arrA ,arrx))  # [A]{x}\n",
    "print(\"inner(arrA ,arrB) =\\n\",inner(arrA ,arrB))  # [A][B_transpose]\n",
    "\n",
    "# Outer product\n",
    "print(\"outer(arrx ,arry) =\\n\",outer(arrx ,arry))\n",
    "print(\"outer(arrA ,arrx) =\\n\",outer(arrA ,arrx))\n",
    "print(\"outer(arrA ,arrB) =\\n\",outer(arrA ,arrB))"
   ]
  },
  {
   "cell_type": "code",
   "execution_count": 55,
   "metadata": {},
   "outputs": [
    {
     "name": "stdout",
     "output_type": "stream",
     "text": [
      "[[ 0.          0.25        0.16666667]\n",
      " [ 0.25       -0.1875     -0.04166667]\n",
      " [ 0.16666667 -0.04166667 -0.08333333]]\n",
      "[10.         -2.5        -1.66666667]\n"
     ]
    }
   ],
   "source": [
    "#Importamos la clase numpy.array\n",
    "from numpy import array\n",
    "#Dentro de  numpy existe un módulo llamado linalg (que contiene funciones para algebra linear)\n",
    "from numpy.linalg import inv,solve\n",
    "\n",
    "#Declaramos una matriz\n",
    "arrA = array([[ 2.0, 2.0,  3.0], \\\n",
    "               [2.0, -4.0,  6.0], \\\n",
    "               [3.0, 6.0,  -9.0]])\n",
    "\n",
    "#Declaramos un arreglo\n",
    "arrb = array([10, 20, 30])\n",
    "\n",
    "#Obtenemos la inversa de la matriz A\n",
    "print(inv(arrA))\n",
    "\n",
    "#Resolvemos el sistema de ecuaciones donde A son las incógnitas, y b los resultados\n",
    "print(solve(arrA,arrb))"
   ]
  },
  {
   "cell_type": "code",
   "execution_count": 56,
   "metadata": {},
   "outputs": [
    {
     "name": "stdout",
     "output_type": "stream",
     "text": [
      "77.51389798916522\n",
      "77.51389798916512\n"
     ]
    }
   ],
   "source": [
    "#Importamos algunas funciones de math\n",
    "from math import sqrt,sin,pi\n",
    "\n",
    "#Se pueden tener 2 sentencias en la misma línea separando por un punto y coma(;)\n",
    "nbrX = 0.0; nbrY = 0.0\n",
    "\n",
    "#Una ventaja de usar el módulo de numpy.array, es que las operaciones están vectorizadas por lo que su performance\n",
    "#es mejor respecto a generar cilcos tradicionales; la desventaja es que consumen mayor memoria\n",
    "\n",
    "#Los siguientes 2 algoritmos obtienen el mismo resultado, uno sin usar vectorización y otro usándola\n",
    "\n",
    "#Algoritmo usando un for tradicional\n",
    "for i in range(101):\n",
    "    nbrY = nbrY + sqrt(nbrX)*sin(nbrX)\n",
    "    nbrX = nbrX + 0.01*pi\n",
    "print(s)\n",
    "\n",
    "#Algoritmo usando las funciones vectorizadas de numpy.array\n",
    "from numpy import sqrt,sin,arange\n",
    "from math import pi\n",
    "nbrX = arange(0.0, 1.001*pi, 0.01*pi)\n",
    "print(sum(sqrt(nbrX)*sin(nbrX)))"
   ]
  },
  {
   "cell_type": "code",
   "execution_count": 58,
   "metadata": {},
   "outputs": [
    {
     "name": "stdout",
     "output_type": "stream",
     "text": [
      "\n",
      "Presiona Enter\n"
     ]
    },
    {
     "data": {
      "text/plain": [
       "''"
      ]
     },
     "execution_count": 58,
     "metadata": {},
     "output_type": "execute_result"
    },
    {
     "data": {
      "image/png": "[encoded data removed]",
      "text/plain": [
       "<Figure size 432x288 with 1 Axes>"
      ]
     },
     "metadata": {
      "needs_background": "light"
     },
     "output_type": "display_data"
    }
   ],
   "source": [
    "#################################### GRAFICAR CON matplotlib.pyplot ####################################\n",
    "\n",
    "#Importamos el módulo que usaremos para graficar\n",
    "import matplotlib.pyplot as plt\n",
    "\n",
    "#Importamos las funciones que graficaremos\n",
    "from numpy import arange,sin,cos\n",
    "\n",
    "#Creamos un arreglo de intervalos\n",
    "arrX = arange(0.0,6.2,0.2)\n",
    "\n",
    "#Pasamos el arreglo a manera de eje x, la función como eje y, y los strings serán el formato de las líneas\n",
    "plt.plot(arrX,sin(arrX),'o-',arrX,cos(arrX),'^-')\n",
    "\n",
    "#Asignamos la etiqueta del eje x\n",
    "plt.xlabel('x')\n",
    "\n",
    "#Asignamos las etiquetas de la acotación de las líneas, así como su ubicación\n",
    "plt.legend(('Seno','Coseno'),loc = 0)\n",
    "\n",
    "#Indicamos que queremos mostrar una cuadrícula\n",
    "plt.grid(True)\n",
    "\n",
    "#Guardamos la imagen generada\n",
    "plt.savefig('testplot.png',format='png') \n",
    "\n",
    "#Mediante esta línea, presentamos un cuadro de texto para atrapar el valor que se indique desde el teclado\n",
    "input(\"\\nPresiona Enter\")"
   ]
  },
  {
   "cell_type": "code",
   "execution_count": 60,
   "metadata": {},
   "outputs": [
    {
     "data": {
      "image/png": "[encoded data removed]",
      "text/plain": [
       "<Figure size 432x288 with 2 Axes>"
      ]
     },
     "metadata": {
      "needs_background": "light"
     },
     "output_type": "display_data"
    }
   ],
   "source": [
    "#Importamos los módulos y funciones necesarias\n",
    "import matplotlib.pyplot as plt\n",
    "from numpy import arange,sin,cos\n",
    "\n",
    "#Arreglo de intervalos\n",
    "arrX = arange(0.0,6.2,0.2)\n",
    "\n",
    "#Gráfica 1\n",
    "\n",
    "#Indicamos que el espacio para generar la gráfica, lo dividiremos en 2 filas, 1 columna y trabajaremos con la gráfica1\n",
    "plt.subplot(2,1,1)\n",
    "plt.plot(arrX,sin(arrX),'o-')\n",
    "plt.xlabel('x');plt.ylabel('sin(x)')\n",
    "plt.grid(True)\n",
    "\n",
    "#Indicamos que el espacio para generar la gráfica, lo dividiremos en 2 filas, 1 columna y trabajaremos con la gráfica2\n",
    "plt.subplot(2,1,2)\n",
    "plt.plot(arrX,cos(arrX),'^-')\n",
    "plt.xlabel('x');plt.ylabel('cos(x)')\n",
    "plt.grid(True)\n",
    "\n",
    "plt.show()"
   ]
  },
  {
   "cell_type": "code",
   "execution_count": 63,
   "metadata": {},
   "outputs": [
    {
     "name": "stdout",
     "output_type": "stream",
     "text": [
      "a/b = 5.0\n"
     ]
    },
    {
     "ename": "NameError",
     "evalue": "name 'c' is not defined",
     "output_type": "error",
     "traceback": [
      "\u001b[0;31m---------------------------------------------------------------------------\u001b[0m",
      "\u001b[0;31mNameError\u001b[0m                                 Traceback (most recent call last)",
      "\u001b[0;32m<ipython-input-63-692430760917>\u001b[0m in \u001b[0;36m<module>\u001b[0;34m()\u001b[0m\n\u001b[1;32m     19\u001b[0m \u001b[0;34m\u001b[0m\u001b[0m\n\u001b[1;32m     20\u001b[0m \u001b[0;31m#Sin embargo, la variable c que fue declarada en una función, no es posible usarla fuera de dicha función\u001b[0m\u001b[0;34m\u001b[0m\u001b[0;34m\u001b[0m\u001b[0m\n\u001b[0;32m---> 21\u001b[0;31m \u001b[0mprint\u001b[0m\u001b[0;34m(\u001b[0m\u001b[0;34m'a/b ='\u001b[0m\u001b[0;34m,\u001b[0m\u001b[0mc\u001b[0m\u001b[0;34m)\u001b[0m\u001b[0;34m\u001b[0m\u001b[0m\n\u001b[0m",
      "\u001b[0;31mNameError\u001b[0m: name 'c' is not defined"
     ]
    }
   ],
   "source": [
    "#################################### SCOPING DE VARIABLES ####################################\n",
    "\n",
    "def funcPrueba1():\n",
    "    c = a/b\n",
    "    print('a/b =',c)\n",
    "\n",
    "#El alcance de estas variables es global, por lo que pueden ser llamadas desde la función declarada arriba sin\n",
    "#necesidad de pasarse como parámetros\n",
    "a = 10.0\n",
    "b = 2.0\n",
    "funcPrueba1()\n",
    "\n",
    "def funcPrueba2():\n",
    "    c = a/b\n",
    "    \n",
    "a = 10.0\n",
    "b = 2.0\n",
    "funcPrueba2()\n",
    "\n",
    "#Sin embargo, la variable c que fue declarada en una función, no es posible usarla fuera de dicha función\n",
    "print('a/b =',c)\n"
   ]
  },
  {
   "cell_type": "code",
   "execution_count": 64,
   "metadata": {},
   "outputs": [
    {
     "name": "stdout",
     "output_type": "stream",
     "text": [
      " err(string).\n",
      "Prints 'string' and terminates program.\n",
      "\n",
      "Este es un mensaje de error pasado como argumento\n",
      "Press return to exit\n"
     ]
    },
    {
     "ename": "SystemExit",
     "evalue": "",
     "output_type": "error",
     "traceback": [
      "An exception has occurred, use %tb to see the full traceback.\n",
      "\u001b[0;31mSystemExit\u001b[0m\n"
     ]
    },
    {
     "name": "stderr",
     "output_type": "stream",
     "text": [
      "/Applications/anaconda3/lib/python3.7/site-packages/IPython/core/interactiveshell.py:2969: UserWarning: To exit: use 'exit', 'quit', or Ctrl-D.\n",
      "  warn(\"To exit: use 'exit', 'quit', or Ctrl-D.\", stacklevel=1)\n"
     ]
    }
   ],
   "source": [
    "#################################### ESCRIBIR Y CORRER PROGRAMAS ####################################\n",
    "\n",
    "#Importamos el módulo de errores\n",
    "import error\n",
    "import numpy\n",
    "\n",
    "#Imprimimos el \"docstring\" del módulo (idealmente, contendrá una descripción del mismo)\n",
    "print(error.__doc__)\n",
    "\n",
    "#Usamos la función definida en nuestro módulo\n",
    "error.err('Este es un mensaje de error pasado como argumento')\n"
   ]
  },
  {
   "cell_type": "code",
   "execution_count": null,
   "metadata": {},
   "outputs": [],
   "source": []
  },
  {
   "cell_type": "code",
   "execution_count": null,
   "metadata": {},
   "outputs": [],
   "source": []
  },
  {
   "cell_type": "code",
   "execution_count": null,
   "metadata": {},
   "outputs": [],
   "source": []
  }
 ],
 "metadata": {
  "kernelspec": {
   "display_name": "Python 3",
   "language": "python",
   "name": "python3"
  },
  "language_info": {
   "codemirror_mode": {
    "name": "ipython",
    "version": 3
   },
   "file_extension": ".py",
   "mimetype": "text/x-python",
   "name": "python",
   "nbconvert_exporter": "python",
   "pygments_lexer": "ipython3",
   "version": "3.7.0"
  }
 },
 "nbformat": 4,
 "nbformat_minor": 2
}
