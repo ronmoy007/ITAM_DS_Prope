{
 "cells": [
  {
   "cell_type": "code",
   "execution_count": 14,
   "metadata": {},
   "outputs": [],
   "source": [
    "import numpy as np\n",
    "import pprint\n",
    "import math\n",
    "import pandas as pd\n",
    "import matplotlib.pyplot as plt"
   ]
  },
  {
   "cell_type": "code",
   "execution_count": 15,
   "metadata": {},
   "outputs": [],
   "source": [
    "################################\n",
    "######## Cifrado César #########\n",
    "################################"
   ]
  },
  {
   "cell_type": "code",
   "execution_count": 16,
   "metadata": {},
   "outputs": [],
   "source": [
    "######## Funciones genéricas\n",
    "\n",
    "def GenerarAlfabeto():\n",
    "    arrAlfabeto=np.array(['A','B','C','D','E','F','G','H','I','J' \\\n",
    "                         ,'K','L','M','N','Ñ','O','P','Q','R','S' \\\n",
    "                         ,'T','U','V','W','X','Y','Z',',','.',' ' ])\n",
    "    \"\"\"\n",
    "    arrAlfabeto=np.array(['A','B','C','D','E','F','G','H','I','J' \\\n",
    "                         ,'K','L','M','N','O','P','Q','R','S' \\\n",
    "                         ,'T','U','V','W','X','Y','Z'])\n",
    "    \"\"\"\n",
    "    \n",
    "    \n",
    "    return arrAlfabeto\n",
    "\n",
    "def MapArrCharArrNum(arrChar, arrAlfabeto):\n",
    "    \n",
    "    arrNum=np.zeros(0)\n",
    "    \n",
    "    for strChar in arrChar:\n",
    "        nbrIndice=np.where(arrAlfabeto==strChar)[0][0]\n",
    "        arrNum=np.append(arrNum, nbrIndice)\n",
    "        \n",
    "    arrNum=arrNum.astype(int)\n",
    "    \n",
    "    return arrNum\n",
    "\n",
    "def MapArrNumArrChar(arrNum, arrAlfabeto):\n",
    "    \n",
    "    arrChar=np.zeros(0)\n",
    "    for nbrNum in arrNum:\n",
    "        strLetra=arrAlfabeto[nbrNum]\n",
    "        arrChar=np.append(arrChar, strLetra)\n",
    "    \n",
    "    return arrChar\n",
    "\n",
    "def ConvertirArrEnTexto(arrChar):\n",
    "    \n",
    "    strResultado=''\n",
    "    for strChar in arrChar:\n",
    "        strResultado=strResultado+strChar\n",
    "    \n",
    "    return strResultado\n",
    "\n",
    "def GenerarDictFrecuencias(arrAlfabeto,strTexto):\n",
    "    \n",
    "    dictResultado={}\n",
    "    arrTexto=np.array(list(strTexto))\n",
    "    \n",
    "    #Creamos el diccionario base\n",
    "    for strLetra in arrAlfabeto:\n",
    "        #print(strLetra)\n",
    "        dictResultado[strLetra]=0\n",
    "        \n",
    "    #Barremos el diccionario de frecuencias para actualizar las letras que corresopndan\n",
    "    unique, counts = np.unique(arrTexto, return_counts=True)\n",
    "    \n",
    "    #for item in unique:\n",
    "        #print('item: ', item, ' ord(item): ', ord(item))\n",
    "    \n",
    "    dictFreqTexto=dict(zip(unique, counts))\n",
    "    \n",
    "    for key, value in dictFreqTexto.items():\n",
    "        #if ord(key) == 8203:\n",
    "        #    print('key: ', key)\n",
    "        #    key=' '\n",
    "        dictResultado[key]=value\n",
    "    \n",
    "    return dictResultado"
   ]
  },
  {
   "cell_type": "code",
   "execution_count": 22,
   "metadata": {},
   "outputs": [],
   "source": [
    "######## Funciones cifrado César\n",
    "\n",
    "def AplicarCifradoCesar(strTextoClaro, nbrLlave, arrAlfabeto):\n",
    "    \n",
    "    arrChar=np.array(list(strTextoClaro))\n",
    "    arrNum=MapArrCharArrNum(arrChar,arrAlfabeto)\n",
    "    #print('arrNum: ', arrNum, '\\n')\n",
    "    nbrLongAlfab=arrAlfabeto.shape[0]\n",
    "    arrNum=(arrNum+nbrLlave)\n",
    "    #print('arrNum+nbrLlave: ', arrNum, '\\n')\n",
    "    arrNum=arrNum%nbrLongAlfab\n",
    "    #print('arrNum%nbrLongAlfab: ', arrNum, '\\n')\n",
    "    \n",
    "    arrResultado=MapArrNumArrChar(arrNum,arrAlfabeto)\n",
    "    strTextoCifrado=ConvertirArrEnTexto(arrResultado)\n",
    "    \n",
    "    return strTextoCifrado\n",
    "\n",
    "def AplicarDescifradoCesar(strTextoCifr, nbrLlave, arrAlfabeto):\n",
    "    \n",
    "    arrChar=np.array(list(strTextoCifr))\n",
    "    arrNum=MapArrCharArrNum(arrChar,arrAlfabeto)\n",
    "    #print('arrNum: ', arrNum, '\\n')\n",
    "    nbrLongAlfab=arrAlfabeto.shape[0]\n",
    "    arrNum=(arrNum-nbrLlave)\n",
    "    #print('arrNum+nbrLlave: ', arrNum, '\\n')\n",
    "    arrNum=arrNum%nbrLongAlfab\n",
    "    #print('arrNum%nbrLongAlfab: ', arrNum, '\\n')\n",
    "    \n",
    "    arrResultado=MapArrNumArrChar(arrNum,arrAlfabeto)\n",
    "    strTextoDescifrado=ConvertirArrEnTexto(arrResultado)\n",
    "    \n",
    "    return strTextoDescifrado"
   ]
  },
  {
   "cell_type": "code",
   "execution_count": 23,
   "metadata": {},
   "outputs": [
    {
     "name": "stdout",
     "output_type": "stream",
     "text": [
      "array(['A', 'B', 'C', 'D', 'E', 'F', 'G', 'H', 'I', 'J', 'K', 'L', 'M',\n",
      "       'N', 'Ñ', 'O', 'P', 'Q', 'R', 'S', 'T', 'U', 'V', 'W', 'X', 'Y',\n",
      "       'Z', ',', '.', ' '], dtype='<U1')\n",
      "\n",
      "strTextoClaro:  VAMOS POR UNA CERVEZA. \n",
      "\n",
      "nbrLlaveSecretaCesar:  3 \n",
      "\n"
     ]
    }
   ],
   "source": [
    "#Generación del alfabeto base\n",
    "arrAlfabeto=GenerarAlfabeto()\n",
    "pprint.pprint(arrAlfabeto)\n",
    "#print()\n",
    "\n",
    "#Desface acordado entre las 2 partes\n",
    "strTextoClaro='VAMOS POR UNA CERVEZA.'\n",
    "print('strTextoClaro: ', strTextoClaro, '\\n')\n",
    "\n",
    "nbrLlaveSecretaCesar=3\n",
    "print('nbrLlaveSecretaCesar: ', nbrLlaveSecretaCesar, '\\n')"
   ]
  },
  {
   "cell_type": "code",
   "execution_count": 24,
   "metadata": {},
   "outputs": [
    {
     "name": "stdout",
     "output_type": "stream",
     "text": [
      "arrNum:  [22  0 12 15 19 29 16 15 18 29 21 13  0 29  2  4 18 22  4 26  0 28] \n",
      "\n",
      "arrNum+nbrLlave:  [25  3 15 18 22 32 19 18 21 32 24 16  3 32  5  7 21 25  7 29  3 31] \n",
      "\n",
      "arrNum%nbrLongAlfab:  [25  3 15 18 22  2 19 18 21  2 24 16  3  2  5  7 21 25  7 29  3  1] \n",
      "\n",
      "strTextoCifradoCesar:  YDORVCSRUCXPDCFHUYH DB \n",
      "\n"
     ]
    }
   ],
   "source": [
    "#Proceso de cifrado\n",
    "strTextoCifradoCesar=AplicarCifradoCesar(strTextoClaro, nbrLlaveSecretaCesar, arrAlfabeto)\n",
    "print('strTextoCifradoCesar: ', strTextoCifradoCesar, '\\n')"
   ]
  },
  {
   "cell_type": "code",
   "execution_count": 25,
   "metadata": {},
   "outputs": [
    {
     "name": "stdout",
     "output_type": "stream",
     "text": [
      "arrNum:  [25  3 15 18 22  2 19 18 21  2 24 16  3  2  5  7 21 25  7 29  3  1] \n",
      "\n",
      "arrNum+nbrLlave:  [22  0 12 15 19 -1 16 15 18 -1 21 13  0 -1  2  4 18 22  4 26  0 -2] \n",
      "\n",
      "arrNum%nbrLongAlfab:  [22  0 12 15 19 29 16 15 18 29 21 13  0 29  2  4 18 22  4 26  0 28] \n",
      "\n",
      "strTextoDescifrado:  VAMOS POR UNA CERVEZA. \n",
      "\n"
     ]
    }
   ],
   "source": [
    "#Proceso de descifrado\n",
    "strTextoDescifrado=AplicarDescifradoCesar(strTextoCifradoCesar, nbrLlaveSecretaCesar, arrAlfabeto)\n",
    "print('strTextoDescifrado: ', strTextoDescifrado, '\\n')"
   ]
  },
  {
   "cell_type": "code",
   "execution_count": 48,
   "metadata": {},
   "outputs": [],
   "source": [
    "################################\n",
    "######## Cifrado Hill ##########\n",
    "################################"
   ]
  },
  {
   "cell_type": "code",
   "execution_count": 55,
   "metadata": {},
   "outputs": [],
   "source": [
    "######## Funciones cifrado Hill\n",
    "def CrearMatrizCifrar(strLlaveSecreta, nbrOrdenMtrx):\n",
    "    \n",
    "    arrLlaveTexto=np.array(list(strLlaveSecreta))\n",
    "    #print('arrLlaveTexto: ', arrLlaveTexto, '\\n')\n",
    "\n",
    "    arrLlaveNum=np.zeros(0)\n",
    "    arrLlaveNum=MapArrCharArrNum(arrLlaveTexto, arrAlfabeto)\n",
    "    #print('arrLlaveNum: ', arrLlaveNum, '\\n')\n",
    "\n",
    "    mtrxLlave=arrLlaveNum.reshape(int(nbrOrdenMtrx), int(nbrOrdenMtrx))\n",
    "    #print('mtrxLlave: \\n', mtrxLlave, '\\n')\n",
    "\n",
    "    return mtrxLlave\n",
    "\n",
    "def CrearMatrizDescifrar(strLlaveSecreta, nbrOrdenMtrx, nbrTamanioAlfabeto):\n",
    "    \n",
    "    mtrxCifrar=CrearMatrizCifrar(strLlaveSecreta, nbrOrdenMtrx)\n",
    "    \n",
    "    nbrDeterm=int(np.linalg.det(mtrxCifrar))\n",
    "    #print('nbrDeterm: ', nbrDeterm, '\\n')\n",
    "\n",
    "    nbrDetermMod=nbrDeterm%nbrTamanioAlfabeto\n",
    "    #print('nbrDetermMod: ', nbrDetermMod, '\\n')\n",
    "\n",
    "    for i in range(1,nbrTamanioAlfabeto):\n",
    "        if (nbrDetermMod*i)%nbrTamanioAlfabeto == 1:\n",
    "            nbrMultInv = i\n",
    "            break\n",
    "\n",
    "    #print('nbrMultInv: ', nbrMultInv, '\\n')\n",
    "\n",
    "    mtrxAdj=np.linalg.inv(mtrxCifrar.T).T * np.linalg.det(mtrxCifrar.T)\n",
    "    #print('mtrxAdj: \\n', mtrxAdj, '\\n')\n",
    "\n",
    "    mtrxAdjMod=mtrxAdj%nbrTamanioAlfabeto\n",
    "    #print('mtrxAdjMod: \\n', mtrxAdjMod, '\\n')\n",
    "\n",
    "    mtrxInv=nbrMultInv*mtrxAdjMod\n",
    "    #print('mtrxInv: \\n', mtrxInv, '\\n')\n",
    "\n",
    "    mtrxInvMod=(nbrMultInv*mtrxAdjMod)%nbrTamanioAlfabeto\n",
    "    #print('mtrxInvMod: \\n', mtrxInvMod, '\\n')\n",
    "\n",
    "    return mtrxInvMod\n",
    "\n",
    "def AjustarTextoHill(strTexto, nbrOrdenMtrx):\n",
    "    \n",
    "    while ((len(strTexto)%nbrOrdenMtrx) != 0):\n",
    "        strTexto=strTexto+' '\n",
    "    #print('strTexto: ', strTexto, '\\n')\n",
    "    \n",
    "    return strTexto\n",
    "\n",
    "def ConvertirTextoEnMatrizHill(strTexto, nbrRaizLongLLave, arrAlfabeto):\n",
    "    \n",
    "    arrTexto=np.array(list(strTexto))\n",
    "    arrNum=np.zeros(0)\n",
    "    arrNum=MapArrCharArrNum(arrTexto, arrAlfabeto)\n",
    "    #print('arrNum:\\n', arrNum, '\\n')\n",
    "\n",
    "    mtrxNum=arrNum.reshape(int(len(strTexto)/nbrRaizLongLLave), int(nbrRaizLongLLave))\n",
    "    #print('mtrxNum.reshape():\\n', mtrxNum, '\\n')\n",
    "    mtrxNum=mtrxNum.T\n",
    "    #print('mtrxNum.T:\\n', mtrxNum, '\\n')\n",
    "    \n",
    "    #mtrxNum=arrNum.reshape(int(nbrRaizLongLLave), int(len(strTexto)/nbrRaizLongLLave))\n",
    "    #print('mtrxNum.reshape():\\n', mtrxNum, '\\n')\n",
    "    \n",
    "    return mtrxNum\n",
    "\n",
    "def ConvertirMatrizHillEnTexto(mtrxHill, arrAlfabeto):\n",
    "    \n",
    "    mtrxHill=mtrxHill.T\n",
    "    #print('mtrxHill.T:\\n', mtrxHill, '\\n')\n",
    "    \n",
    "    arrHill=mtrxHill.reshape(mtrxHill.shape[0]*mtrxHill.shape[1])\n",
    "    #print('arrHill.reshape:\\n', arrHill, '\\n')\n",
    "    \n",
    "    #arrHill=mtrxHill.reshape(mtrxHill.shape[1]*mtrxHill.shape[0])\n",
    "    #print('arrHill.reshape:\\n', arrHill, '\\n')\n",
    "    \n",
    "    arrTexto=MapArrNumArrChar(arrHill, arrAlfabeto)\n",
    "    \n",
    "    strTexto=ConvertirArrEnTexto(arrTexto)\n",
    "\n",
    "    return strTexto\n",
    "\n",
    "def AplicarMultipHill(mtrxLlave, mtrxTexto, nbrTamanioAlfabeto):\n",
    "    \n",
    "    mtrxRsltParcial=mtrxLlave@mtrxTexto\n",
    "    #print('mtrxRsltParcial (mtrxLlave@mtrxTexto):\\n', mtrxRsltParcial, '\\n')\n",
    "    mtrxRsltParcial=np.around(mtrxRsltParcial)\n",
    "    mtrxRsltParcial=mtrxRsltParcial.astype(int)\n",
    "\n",
    "    mtrxRsltFinal=mtrxRsltParcial%nbrTamanioAlfabeto\n",
    "    #print('nbrTamanioAlfabeto: ',nbrTamanioAlfabeto, '\\n')\n",
    "    #print('mtrxRsltFinal (mtrxRsltParcial%nbrTamanioAlfabeto):\\n', mtrxRsltFinal, '\\n')\n",
    "\n",
    "    return mtrxRsltFinal\n",
    "\n",
    "def AplicarCifradoHill(strTextoClaro, strLlaveSecreta, arrAlfabeto):\n",
    "    \n",
    "    nbrLongitudLlave=len(strLlaveSecreta)\n",
    "    nbrOrdenMtrx=math.sqrt(nbrLongitudLlave)\n",
    "    \n",
    "    mtrxCifrar=CrearMatrizCifrar(strLlaveSecreta, nbrOrdenMtrx)\n",
    "    strTextoClaro=AjustarTextoHill(strTextoClaro, nbrOrdenMtrx)\n",
    "    \n",
    "    mtrxHillClara=ConvertirTextoEnMatrizHill(strTextoClaro, nbrOrdenMtrx, arrAlfabeto)\n",
    "    mtrxHillCifrada=AplicarMultipHill(mtrxCifrar, mtrxHillClara, arrAlfabeto.shape[0])\n",
    "    \n",
    "    strTextoCifrado=ConvertirMatrizHillEnTexto(mtrxHillCifrada, arrAlfabeto)\n",
    "    \n",
    "    return strTextoCifrado\n",
    "\n",
    "def AplicarDescifradoHill(strTextoCifrado, strLlaveSecreta, arrAlfabeto):\n",
    "    \n",
    "    nbrLongitudLlave=len(strLlaveSecreta)\n",
    "    nbrOrdenMtrx=math.sqrt(nbrLongitudLlave)\n",
    "    \n",
    "    mtrxDescifrar=CrearMatrizDescifrar(strLlaveSecreta, nbrOrdenMtrx, arrAlfabeto.shape[0])\n",
    "    #strTextoClaro=AjustarTextoHill(strTextoClaro, nbrOrdenMtrx)\n",
    "    \n",
    "    mtrxHillCifrada=ConvertirTextoEnMatrizHill(strTextoCifrado, nbrOrdenMtrx, arrAlfabeto)\n",
    "    mtrxHillClara=AplicarMultipHill(mtrxDescifrar, mtrxHillCifrada, arrAlfabeto.shape[0])\n",
    "    \n",
    "    strTextoDescifrado=ConvertirMatrizHillEnTexto(mtrxHillClara, arrAlfabeto)\n",
    "    \n",
    "    return strTextoDescifrado"
   ]
  },
  {
   "cell_type": "code",
   "execution_count": 56,
   "metadata": {},
   "outputs": [
    {
     "name": "stdout",
     "output_type": "stream",
     "text": [
      "array(['A', 'B', 'C', 'D', 'E', 'F', 'G', 'H', 'I', 'J', 'K', 'L', 'M',\n",
      "       'N', 'Ñ', 'O', 'P', 'Q', 'R', 'S', 'T', 'U', 'V', 'W', 'X', 'Y',\n",
      "       'Z', ',', '.', ' '], dtype='<U1')\n",
      "\n",
      "strLlaveSecretaHill:  HILL \n",
      "\n",
      "strTextoClaro:  VAMOS POR UNA CERVEZA. \n",
      "\n"
     ]
    }
   ],
   "source": [
    "arrAlfabeto=GenerarAlfabeto()\n",
    "pprint.pprint(arrAlfabeto)\n",
    "print()\n",
    "\n",
    "strLlaveSecretaHill='HILL'\n",
    "print('strLlaveSecretaHill: ', strLlaveSecretaHill, '\\n')\n",
    "\n",
    "print('strTextoClaro: ', strTextoClaro, '\\n')"
   ]
  },
  {
   "cell_type": "code",
   "execution_count": 57,
   "metadata": {},
   "outputs": [
    {
     "name": "stdout",
     "output_type": "stream",
     "text": [
      "arrNum:\n",
      " [22  0 12 15 19 29 16 15 18 29 21 13  0 29  2  4 18 22  4 26  0 28] \n",
      "\n",
      "mtrxNum.reshape():\n",
      " [[22  0]\n",
      " [12 15]\n",
      " [19 29]\n",
      " [16 15]\n",
      " [18 29]\n",
      " [21 13]\n",
      " [ 0 29]\n",
      " [ 2  4]\n",
      " [18 22]\n",
      " [ 4 26]\n",
      " [ 0 28]] \n",
      "\n",
      "mtrxNum.T:\n",
      " [[22 12 19 16 18 21  0  2 18  4  0]\n",
      " [ 0 15 29 15 29 13 29  4 22 26 28]] \n",
      "\n",
      "mtrxRsltParcial (mtrxLlave@mtrxTexto):\n",
      " [[154 204 365 232 358 251 232  46 302 236 224]\n",
      " [242 297 528 341 517 374 319  66 440 330 308]] \n",
      "\n",
      "nbrTamanioAlfabeto:  30 \n",
      "\n",
      "mtrxRsltFinal (mtrxRsltParcial%nbrTamanioAlfabeto):\n",
      " [[ 4 24  5 22 28 11 22 16  2 26 14]\n",
      " [ 2 27 18 11  7 14 19  6 20  0  8]] \n",
      "\n",
      "mtrxHill.T:\n",
      " [[ 4  2]\n",
      " [24 27]\n",
      " [ 5 18]\n",
      " [22 11]\n",
      " [28  7]\n",
      " [11 14]\n",
      " [22 19]\n",
      " [16  6]\n",
      " [ 2 20]\n",
      " [26  0]\n",
      " [14  8]] \n",
      "\n",
      "arrHill.reshape:\n",
      " [ 4  2 24 27  5 18 22 11 28  7 11 14 22 19 16  6  2 20 26  0 14  8] \n",
      "\n",
      "strTextoCifradoHill:  ECX,FRVL.HLÑVSPGCTZAÑI \n",
      "\n"
     ]
    }
   ],
   "source": [
    "#Proceso de cifrado\n",
    "strTextoCifradoHill=AplicarCifradoHill(strTextoClaro, strLlaveSecretaHill, arrAlfabeto)\n",
    "print('strTextoCifradoHill: ', strTextoCifradoHill, '\\n')"
   ]
  },
  {
   "cell_type": "code",
   "execution_count": 58,
   "metadata": {},
   "outputs": [
    {
     "name": "stdout",
     "output_type": "stream",
     "text": [
      "nbrDeterm:  -11 \n",
      "\n",
      "nbrDetermMod:  19 \n",
      "\n",
      "nbrMultInv:  19 \n",
      "\n",
      "mtrxAdj: \n",
      " [[ 11.  -8.]\n",
      " [-11.   7.]] \n",
      "\n",
      "mtrxAdjMod: \n",
      " [[11. 22.]\n",
      " [19.  7.]] \n",
      "\n",
      "mtrxInv: \n",
      " [[209. 418.]\n",
      " [361. 133.]] \n",
      "\n",
      "mtrxInvMod: \n",
      " [[29. 28.]\n",
      " [ 1. 13.]] \n",
      "\n",
      "arrNum:\n",
      " [ 4  2 24 27  5 18 22 11 28  7 11 14 22 19 16  6  2 20 26  0 14  8] \n",
      "\n",
      "mtrxNum.reshape():\n",
      " [[ 4  2]\n",
      " [24 27]\n",
      " [ 5 18]\n",
      " [22 11]\n",
      " [28  7]\n",
      " [11 14]\n",
      " [22 19]\n",
      " [16  6]\n",
      " [ 2 20]\n",
      " [26  0]\n",
      " [14  8]] \n",
      "\n",
      "mtrxNum.T:\n",
      " [[ 4 24  5 22 28 11 22 16  2 26 14]\n",
      " [ 2 27 18 11  7 14 19  6 20  0  8]] \n",
      "\n",
      "mtrxRsltParcial (mtrxLlave@mtrxTexto):\n",
      " [[ 172. 1452.  649.  946. 1008.  711. 1170.  632.  618.  754.  630.]\n",
      " [  30.  375.  239.  165.  119.  193.  269.   94.  262.   26.  118.]] \n",
      "\n",
      "nbrTamanioAlfabeto:  30 \n",
      "\n",
      "mtrxRsltFinal (mtrxRsltParcial%nbrTamanioAlfabeto):\n",
      " [[22 12 19 16 18 21  0  2 18  4  0]\n",
      " [ 0 15 29 15 29 13 29  4 22 26 28]] \n",
      "\n",
      "mtrxHill.T:\n",
      " [[22  0]\n",
      " [12 15]\n",
      " [19 29]\n",
      " [16 15]\n",
      " [18 29]\n",
      " [21 13]\n",
      " [ 0 29]\n",
      " [ 2  4]\n",
      " [18 22]\n",
      " [ 4 26]\n",
      " [ 0 28]] \n",
      "\n",
      "arrHill.reshape:\n",
      " [22  0 12 15 19 29 16 15 18 29 21 13  0 29  2  4 18 22  4 26  0 28] \n",
      "\n",
      "strTextoDescifrado:  VAMOS POR UNA CERVEZA. \n",
      "\n"
     ]
    }
   ],
   "source": [
    "#Proceso de descifrado\n",
    "strTextoDescifrado=AplicarDescifradoHill(strTextoCifradoHill, strLlaveSecretaHill, arrAlfabeto)\n",
    "print('strTextoDescifrado: ', strTextoDescifrado, '\\n')"
   ]
  },
  {
   "cell_type": "code",
   "execution_count": 59,
   "metadata": {},
   "outputs": [],
   "source": [
    "#######################################\n",
    "######## Análisis de cifrados #########\n",
    "#######################################"
   ]
  },
  {
   "cell_type": "code",
   "execution_count": 60,
   "metadata": {},
   "outputs": [
    {
     "name": "stdout",
     "output_type": "stream",
     "text": [
      "len(strTextoClaro):    22\n",
      "strTextoClaro:         VAMOS POR UNA CERVEZA.\n",
      "strTextoCifradoCesar:  YDORVCSRUCXPDCFHUYH DB\n",
      "strTextoCifradoHill:   ECX,FRVL.HLÑVSPGCTZAÑI\n"
     ]
    }
   ],
   "source": [
    "print('len(strTextoClaro):   ', len(strTextoClaro))\n",
    "print('strTextoClaro:        ', strTextoClaro)\n",
    "print('strTextoCifradoCesar: ', strTextoCifradoCesar)\n",
    "print('strTextoCifradoHill:  ', strTextoCifradoHill)"
   ]
  },
  {
   "cell_type": "code",
   "execution_count": 15,
   "metadata": {},
   "outputs": [
    {
     "name": "stdout",
     "output_type": "stream",
     "text": [
      "   OcurrenciasClaro  OcurrenciasCifradoCesar  OcurrenciasCifradoHill\n",
      "A                 3                        0                       1\n",
      "B                 0                        1                       0\n",
      "C                 1                        3                       2\n",
      "D                 0                        3                       0\n",
      "E                 2                        0                       1\n",
      "F                 0                        1                       1\n",
      "G                 0                        0                       1\n",
      "H                 0                        2                       1\n",
      "I                 0                        0                       1\n",
      "J                 0                        0                       0\n",
      "K                 0                        0                       0\n",
      "L                 0                        0                       2\n",
      "M                 1                        0                       0\n",
      "N                 1                        0                       0\n",
      "Ñ                 0                        0                       2\n",
      "O                 2                        1                       0\n",
      "P                 1                        1                       1\n",
      "Q                 0                        0                       0\n",
      "R                 2                        2                       1\n",
      "S                 1                        1                       1\n",
      "T                 0                        0                       1\n",
      "U                 1                        2                       0\n",
      "V                 2                        1                       2\n",
      "W                 0                        0                       0\n",
      "X                 0                        1                       1\n",
      "Y                 0                        2                       0\n",
      "Z                 1                        0                       1\n",
      ",                 0                        0                       1\n",
      ".                 1                        0                       1\n",
      "                  3                        1                       0\n"
     ]
    }
   ],
   "source": [
    "\n",
    "dictFrecuenciasClaro=GenerarDictFrecuencias(arrAlfabeto, strTextoClaro)\n",
    "dictFrecuenciasCesar=GenerarDictFrecuencias(arrAlfabeto, strTextoCifradoCesar)\n",
    "dictFrecuenciasHill=GenerarDictFrecuencias(arrAlfabeto, strTextoCifradoHill)\n",
    "\n",
    "df = pd.DataFrame({\n",
    "    'OcurrenciasClaro': np.array(list(dictFrecuenciasClaro.values())),\n",
    "    'OcurrenciasCifradoCesar': np.array(list(dictFrecuenciasCesar.values())),\n",
    "    'OcurrenciasCifradoHill': np.array(list(dictFrecuenciasHill.values()))\n",
    "     }, index= dictFrecuenciasClaro.keys())\n",
    "\n",
    "print(df)"
   ]
  },
  {
   "cell_type": "code",
   "execution_count": 16,
   "metadata": {},
   "outputs": [
    {
     "data": {
      "text/plain": [
       "<BarContainer object of 30 artists>"
      ]
     },
     "execution_count": 16,
     "metadata": {},
     "output_type": "execute_result"
    },
    {
     "data": {
      "image/png": "[encoded data removed]",
      "text/plain": [
       "<Figure size 432x288 with 1 Axes>"
      ]
     },
     "metadata": {
      "needs_background": "light"
     },
     "output_type": "display_data"
    },
    {
     "data": {
      "image/png": "[encoded data removed]",
      "text/plain": [
       "<Figure size 432x288 with 1 Axes>"
      ]
     },
     "metadata": {
      "needs_background": "light"
     },
     "output_type": "display_data"
    },
    {
     "data": {
      "image/png": "[encoded data removed]",
      "text/plain": [
       "<Figure size 432x288 with 1 Axes>"
      ]
     },
     "metadata": {
      "needs_background": "light"
     },
     "output_type": "display_data"
    }
   ],
   "source": [
    "#Texto en claro\n",
    "data = dictFrecuenciasClaro\n",
    "names = list(data.keys())\n",
    "values = list(data.values())\n",
    "\n",
    "fig, axs = plt.subplots()\n",
    "axs.bar(names, values)\n",
    "\n",
    "#Texto con cifrado Cesar\n",
    "data = dictFrecuenciasCesar\n",
    "names = list(data.keys())\n",
    "values = list(data.values())\n",
    "\n",
    "fig, axs = plt.subplots()\n",
    "axs.bar(names, values)\n",
    "\n",
    "#Texto con cifrado Hill\n",
    "data = dictFrecuenciasHill\n",
    "names = list(data.keys())\n",
    "values = list(data.values())\n",
    "\n",
    "fig, axs = plt.subplots()\n",
    "axs.bar(names, values)"
   ]
  },
  {
   "cell_type": "code",
   "execution_count": 17,
   "metadata": {},
   "outputs": [],
   "source": [
    "f = open(\"HistoriaMex4.txt\", \"r\")\n",
    "strTextoFuente='';\n",
    "for x in f:\n",
    "    strTextoFuente=strTextoFuente+x\n",
    "f.close()\n"
   ]
  },
  {
   "cell_type": "code",
   "execution_count": 18,
   "metadata": {},
   "outputs": [
    {
     "name": "stdout",
     "output_type": "stream",
     "text": [
      "   OcurrenciasClaro  OcurrenciasCifradoCésar  OcurrenciasCifradoHill\n",
      "A              1600                      156                     248\n",
      "B               162                      148                     650\n",
      "C               776                     2603                     460\n",
      "D               622                     1600                     734\n",
      "E              1730                      162                     282\n",
      "F                76                      776                     392\n",
      "G               126                      622                     411\n",
      "H               102                     1730                     663\n",
      "I              1019                       76                     605\n",
      "J                23                      126                     469\n",
      "K                 8                      102                     431\n",
      "L               825                     1019                     444\n",
      "M               441                       23                     616\n",
      "N               904                        8                     496\n",
      "Ñ                 0                      825                     689\n",
      "O              1288                      441                     348\n",
      "P               316                      904                     483\n",
      "Q                72                        0                     917\n",
      "R               807                     1288                     606\n",
      "S               935                      316                     475\n",
      "T               662                       72                     866\n",
      "U               496                      807                     515\n",
      "V               135                      935                     974\n",
      "W                 2                      662                     742\n",
      "X                79                      496                     535\n",
      "Y               112                      135                     478\n",
      "Z                50                        2                     546\n",
      ",               156                       79                     328\n",
      ".               148                      112                     358\n",
      "               2603                       50                     515\n"
     ]
    }
   ],
   "source": [
    "strTextoFuente=strTextoFuente.replace(chr(8203) ,chr(32))\n",
    "#Proceso de cifrado César\n",
    "strTextoCifradoCesar2=AplicarCifradoCesar(strTextoFuente, nbrLlaveSecretaCesar, arrAlfabeto)\n",
    "#Proceso de cifrado Hill\n",
    "strTextoCifradoHill2=AplicarCifradoHill(strTextoFuente, strLlaveSecretaHill, arrAlfabeto)\n",
    "\n",
    "dictFrecuenciasClaro=GenerarDictFrecuencias(arrAlfabeto, strTextoFuente)\n",
    "dictFrecuenciasHill=GenerarDictFrecuencias(arrAlfabeto, strTextoCifradoHill2)\n",
    "dictFrecuenciasCesar=GenerarDictFrecuencias(arrAlfabeto, strTextoCifradoCesar2)\n",
    "\n",
    "df = pd.DataFrame({\n",
    "    'OcurrenciasClaro': np.array(list(dictFrecuenciasClaro.values())),\n",
    "    'OcurrenciasCifradoCésar': np.array(list(dictFrecuenciasCesar.values())),\n",
    "    'OcurrenciasCifradoHill': np.array(list(dictFrecuenciasHill.values()))\n",
    "     }, index= dictFrecuenciasClaro.keys())\n",
    "\n",
    "print(df)"
   ]
  },
  {
   "cell_type": "code",
   "execution_count": 19,
   "metadata": {},
   "outputs": [
    {
     "data": {
      "text/plain": [
       "<BarContainer object of 30 artists>"
      ]
     },
     "execution_count": 19,
     "metadata": {},
     "output_type": "execute_result"
    },
    {
     "data": {
      "image/png": "[encoded data removed]",
      "text/plain": [
       "<Figure size 432x288 with 1 Axes>"
      ]
     },
     "metadata": {
      "needs_background": "light"
     },
     "output_type": "display_data"
    },
    {
     "data": {
      "image/png": "[encoded data removed]",
      "text/plain": [
       "<Figure size 432x288 with 1 Axes>"
      ]
     },
     "metadata": {
      "needs_background": "light"
     },
     "output_type": "display_data"
    },
    {
     "data": {
      "image/png": "[encoded data removed]",
      "text/plain": [
       "<Figure size 432x288 with 1 Axes>"
      ]
     },
     "metadata": {
      "needs_background": "light"
     },
     "output_type": "display_data"
    }
   ],
   "source": [
    "#Texto en claro\n",
    "data = dictFrecuenciasClaro\n",
    "names = list(data.keys())\n",
    "values = list(data.values())\n",
    "\n",
    "fig, axs = plt.subplots()\n",
    "axs.bar(names, values)\n",
    "\n",
    "#Texto César\n",
    "data = dictFrecuenciasCesar\n",
    "names = list(data.keys())\n",
    "values = list(data.values())\n",
    "\n",
    "fig, axs = plt.subplots()\n",
    "axs.bar(names, values)\n",
    "\n",
    "#Texto Hill\n",
    "data = dictFrecuenciasHill\n",
    "names = list(data.keys())\n",
    "values = list(data.values())\n",
    "\n",
    "fig, axs = plt.subplots()\n",
    "axs.bar(names, values)"
   ]
  },
  {
   "cell_type": "code",
   "execution_count": null,
   "metadata": {},
   "outputs": [],
   "source": []
  }
 ],
 "metadata": {
  "kernelspec": {
   "display_name": "Python 3",
   "language": "python",
   "name": "python3"
  },
  "language_info": {
   "codemirror_mode": {
    "name": "ipython",
    "version": 3
   },
   "file_extension": ".py",
   "mimetype": "text/x-python",
   "name": "python",
   "nbconvert_exporter": "python",
   "pygments_lexer": "ipython3",
   "version": "3.7.2"
  }
 },
 "nbformat": 4,
 "nbformat_minor": 2
}
